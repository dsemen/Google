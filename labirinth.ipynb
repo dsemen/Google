{
 "cells": [
  {
   "cell_type": "code",
   "execution_count": 193,
   "metadata": {},
   "outputs": [],
   "source": [
    "map1 = [[0, 1, 1, 0], \n",
    "        [0, 0, 0, 1], \n",
    "        [1, 1, 0, 0], \n",
    "        [1, 1, 1, 0]]\n",
    "\n",
    "\n",
    "map2 = [[0, 0, 0, 0, 0, 0], \n",
    "        [1, 1, 1, 1, 1, 0], \n",
    "        [0, 0, 0, 0, 0, 0], \n",
    "        [0, 1, 1, 1, 1, 1], \n",
    "        [0, 1, 1, 1, 1, 1], \n",
    "        [0, 0, 0, 0, 0, 0]]"
   ]
  },
  {
   "cell_type": "code",
   "execution_count": 194,
   "metadata": {},
   "outputs": [],
   "source": [
    "def findall(element, matrix):\n",
    "    result = [(0, 0)]\n",
    "    for i in range(len(matrix)):\n",
    "        for j in range(len(matrix[i])):\n",
    "            if matrix[i][j] == element:\n",
    "                result.append((i, j))\n",
    "                \n",
    "    return result"
   ]
  },
  {
   "cell_type": "code",
   "execution_count": 195,
   "metadata": {},
   "outputs": [
    {
     "data": {
      "text/plain": [
       "[(0, 0), (0, 1), (0, 2), (1, 3), (2, 0), (2, 1), (3, 0), (3, 1), (3, 2)]"
      ]
     },
     "execution_count": 195,
     "metadata": {},
     "output_type": "execute_result"
    }
   ],
   "source": [
    "coordinates = findall(1, map1)\n",
    "coordinates"
   ]
  },
  {
   "cell_type": "code",
   "execution_count": 186,
   "metadata": {},
   "outputs": [],
   "source": [
    "def change_zeroes(matrix, indices):\n",
    "    m_list = [matrix] * len(indices)\n",
    "    for x in range(len(indices)):\n",
    "        m_list[x][indices[x][0]][indices[x][1]] = 0\n",
    "    return m_list"
   ]
  },
  {
   "cell_type": "code",
   "execution_count": 187,
   "metadata": {},
   "outputs": [
    {
     "data": {
      "text/plain": [
       "[[[0, 0, 0, 0], [0, 0, 0, 0], [0, 0, 0, 0], [0, 0, 0, 0]],\n",
       " [[0, 0, 0, 0], [0, 0, 0, 0], [0, 0, 0, 0], [0, 0, 0, 0]],\n",
       " [[0, 0, 0, 0], [0, 0, 0, 0], [0, 0, 0, 0], [0, 0, 0, 0]],\n",
       " [[0, 0, 0, 0], [0, 0, 0, 0], [0, 0, 0, 0], [0, 0, 0, 0]],\n",
       " [[0, 0, 0, 0], [0, 0, 0, 0], [0, 0, 0, 0], [0, 0, 0, 0]],\n",
       " [[0, 0, 0, 0], [0, 0, 0, 0], [0, 0, 0, 0], [0, 0, 0, 0]],\n",
       " [[0, 0, 0, 0], [0, 0, 0, 0], [0, 0, 0, 0], [0, 0, 0, 0]],\n",
       " [[0, 0, 0, 0], [0, 0, 0, 0], [0, 0, 0, 0], [0, 0, 0, 0]],\n",
       " [[0, 0, 0, 0], [0, 0, 0, 0], [0, 0, 0, 0], [0, 0, 0, 0]]]"
      ]
     },
     "execution_count": 187,
     "metadata": {},
     "output_type": "execute_result"
    }
   ],
   "source": [
    "change_zeroes(map1, coordinates)"
   ]
  },
  {
   "cell_type": "code",
   "execution_count": 179,
   "metadata": {},
   "outputs": [
    {
     "data": {
      "text/plain": [
       "[[[0, 1, 1, 0], [0, 0, 0, 1], [1, 1, 0, 0], [1, 1, 1, 0]],\n",
       " [[0, 1, 1, 0], [0, 0, 0, 1], [1, 1, 0, 0], [1, 1, 1, 0]]]"
      ]
     },
     "execution_count": 179,
     "metadata": {},
     "output_type": "execute_result"
    }
   ],
   "source": [
    "mapl = [map1] * 2\n",
    "mapl"
   ]
  },
  {
   "cell_type": "code",
   "execution_count": 182,
   "metadata": {},
   "outputs": [
    {
     "data": {
      "text/plain": [
       "0"
      ]
     },
     "execution_count": 182,
     "metadata": {},
     "output_type": "execute_result"
    }
   ],
   "source": [
    "mapl[0][coordinates[0][0]][coordinates[0][1]]"
   ]
  },
  {
   "cell_type": "code",
   "execution_count": 188,
   "metadata": {},
   "outputs": [
    {
     "data": {
      "text/plain": [
       "9"
      ]
     },
     "execution_count": 188,
     "metadata": {},
     "output_type": "execute_result"
    }
   ],
   "source": [
    "len(coordinates)"
   ]
  },
  {
   "cell_type": "code",
   "execution_count": 196,
   "metadata": {},
   "outputs": [],
   "source": [
    "for x in range(2):\n",
    "    map1[coordinates[x][0]][coordinates[x][1]] = 0"
   ]
  },
  {
   "cell_type": "code",
   "execution_count": 197,
   "metadata": {},
   "outputs": [
    {
     "data": {
      "text/plain": [
       "[[0, 0, 1, 0], [0, 0, 0, 1], [1, 1, 0, 0], [1, 1, 1, 0]]"
      ]
     },
     "execution_count": 197,
     "metadata": {},
     "output_type": "execute_result"
    }
   ],
   "source": [
    "map1"
   ]
  },
  {
   "cell_type": "code",
   "execution_count": 92,
   "metadata": {},
   "outputs": [],
   "source": [
    "def solution(map):\n",
    "    # create border and obstacles as -1\n",
    "    mapb = [[-1 if x == 1 else x for x in sublist] for sublist in map]\n",
    "    border = [-1] * (len(map))\n",
    "    mapb.insert(0, border)\n",
    "    mapb.append(border)\n",
    "    mapb = [[-1] + x + [-1] for x in mapb]\n",
    "    \n",
    "    #create exit map\n",
    "    step = 1\n",
    "    path = [[[1, 1]]]\n",
    "    newpoint = []\n",
    "    mapb[1][1] = step\n",
    "    stop_point = [len(mapb) - 2, len(mapb) - 2]\n",
    "    try:\n",
    "        while path[-1][-1] != stop_point:\n",
    "            for point in path[step - 1]:\n",
    "                #up\n",
    "                if mapb[point[0] - 1][point[1]] == 0:\n",
    "                    mapb[point[0] - 1][point[1]] = step + 1\n",
    "                    newpoint.append([point[0] - 1, point[1]])\n",
    "                #down\n",
    "                if mapb[point[0] + 1][point[1]] == 0:\n",
    "                    mapb[point[0] + 1][point[1]] = step + 1\n",
    "                    newpoint.append([point[0] + 1, point[1]])\n",
    "                #left\n",
    "                if mapb[point[0]][point[1] - 1] == 0:\n",
    "                    mapb[point[0]][point[1] - 1] = step + 1\n",
    "                    newpoint.append([point[0], point[1] - 1])\n",
    "                #right\n",
    "                if mapb[point[0]][point[1] + 1] == 0:\n",
    "                    mapb[point[0]][point[1] + 1] = step + 1\n",
    "                    newpoint.append([point[0], point[1] + 1])\n",
    "               \n",
    "            path.append(newpoint)\n",
    "            newpoint = []\n",
    "            step +=1   \n",
    "    except IndexError:\n",
    "        step = 0\n",
    "    \n",
    "    return step\n",
    "            "
   ]
  },
  {
   "cell_type": "code",
   "execution_count": 93,
   "metadata": {},
   "outputs": [
    {
     "data": {
      "text/plain": [
       "0"
      ]
     },
     "execution_count": 93,
     "metadata": {},
     "output_type": "execute_result"
    }
   ],
   "source": [
    "solution(map1)\n"
   ]
  },
  {
   "cell_type": "code",
   "execution_count": 48,
   "metadata": {},
   "outputs": [
    {
     "data": {
      "text/plain": [
       "[[-1, -1, -1, -1, -1, -1, -1, -1],\n",
       " [-1, 0, 0, 0, 0, 0, 0, -1],\n",
       " [-1, -1, -1, -1, -1, -1, 0, -1],\n",
       " [-1, 0, 0, 0, 0, 0, 0, -1],\n",
       " [-1, 0, -1, -1, -1, -1, -1, -1],\n",
       " [-1, 0, -1, -1, -1, -1, -1, -1],\n",
       " [-1, 0, 0, 0, 0, 0, 0, -1],\n",
       " [-1, -1, -1, -1, -1, -1, -1, -1]]"
      ]
     },
     "execution_count": 48,
     "metadata": {},
     "output_type": "execute_result"
    }
   ],
   "source": [
    "map0 = [0, 0, 0]\n",
    "map0 = [map0 for x in map0]\n",
    "map0 = solution(map2)\n",
    "map0"
   ]
  },
  {
   "cell_type": "code",
   "execution_count": 49,
   "metadata": {},
   "outputs": [],
   "source": [
    "step = 1\n",
    "path = [[[1, 1]]]\n",
    "newpoint = []\n",
    "map0[1][1] = step\n",
    "stop_point = [len(map0) - 2, len(map0) - 2]\n",
    "while path[-1][-1] != stop_point:\n",
    "    for point in path[step - 1]:\n",
    "        #up\n",
    "        if map0[point[0] - 1][point[1]] == 0:\n",
    "            map0[point[0] - 1][point[1]] = step + 1\n",
    "            newpoint.append([point[0] - 1, point[1]])\n",
    "        #down\n",
    "        if map0[point[0] + 1][point[1]] == 0:\n",
    "            map0[point[0] + 1][point[1]] = step + 1\n",
    "            newpoint.append([point[0] + 1, point[1]])\n",
    "        #left\n",
    "        if map0[point[0]][point[1] - 1] == 0:\n",
    "            map0[point[0]][point[1] - 1] = step + 1\n",
    "            newpoint.append([point[0], point[1] - 1])\n",
    "        #right\n",
    "        if map0[point[0]][point[1] + 1] == 0:\n",
    "            map0[point[0]][point[1] + 1] = step + 1\n",
    "            newpoint.append([point[0], point[1] + 1])\n",
    "#         if (map0[point[0] - 1][point[1]] != 0) and (map0[point[0] + 1][point[1]] != 0) and (map0[point[0]][point[1] - 1] != 0) and (map0[point[0]][point[1] + 1] != 0):\n",
    "#             newpoint.append(1000000000)\n",
    "        \n",
    "    path.append(newpoint)\n",
    "    newpoint = []\n",
    "    step +=1"
   ]
  },
  {
   "cell_type": "code",
   "execution_count": 50,
   "metadata": {},
   "outputs": [
    {
     "data": {
      "text/plain": [
       "[[-1, -1, -1, -1, -1, -1, -1, -1],\n",
       " [-1, 1, 2, 3, 4, 5, 6, -1],\n",
       " [-1, -1, -1, -1, -1, -1, 7, -1],\n",
       " [-1, 13, 12, 11, 10, 9, 8, -1],\n",
       " [-1, 14, -1, -1, -1, -1, -1, -1],\n",
       " [-1, 15, -1, -1, -1, -1, -1, -1],\n",
       " [-1, 16, 17, 18, 19, 20, 21, -1],\n",
       " [-1, -1, -1, -1, -1, -1, -1, -1]]"
      ]
     },
     "execution_count": 50,
     "metadata": {},
     "output_type": "execute_result"
    }
   ],
   "source": [
    "map0"
   ]
  },
  {
   "cell_type": "code",
   "execution_count": 51,
   "metadata": {},
   "outputs": [
    {
     "data": {
      "text/plain": [
       "[[[1, 1]],\n",
       " [[1, 2]],\n",
       " [[1, 3]],\n",
       " [[1, 4]],\n",
       " [[1, 5]],\n",
       " [[1, 6]],\n",
       " [[2, 6]],\n",
       " [[3, 6]],\n",
       " [[3, 5]],\n",
       " [[3, 4]],\n",
       " [[3, 3]],\n",
       " [[3, 2]],\n",
       " [[3, 1]],\n",
       " [[4, 1]],\n",
       " [[5, 1]],\n",
       " [[6, 1]],\n",
       " [[6, 2]],\n",
       " [[6, 3]],\n",
       " [[6, 4]],\n",
       " [[6, 5]],\n",
       " [[6, 6]]]"
      ]
     },
     "execution_count": 51,
     "metadata": {},
     "output_type": "execute_result"
    }
   ],
   "source": [
    "path"
   ]
  },
  {
   "cell_type": "code",
   "execution_count": 52,
   "metadata": {},
   "outputs": [
    {
     "data": {
      "text/plain": [
       "[6, 6]"
      ]
     },
     "execution_count": 52,
     "metadata": {},
     "output_type": "execute_result"
    }
   ],
   "source": [
    "stop_point"
   ]
  },
  {
   "cell_type": "code",
   "execution_count": null,
   "metadata": {},
   "outputs": [],
   "source": []
  }
 ],
 "metadata": {
  "kernelspec": {
   "display_name": "Python 3",
   "language": "python",
   "name": "python3"
  },
  "language_info": {
   "codemirror_mode": {
    "name": "ipython",
    "version": 3
   },
   "file_extension": ".py",
   "mimetype": "text/x-python",
   "name": "python",
   "nbconvert_exporter": "python",
   "pygments_lexer": "ipython3",
   "version": "3.7.6"
  }
 },
 "nbformat": 4,
 "nbformat_minor": 4
}
